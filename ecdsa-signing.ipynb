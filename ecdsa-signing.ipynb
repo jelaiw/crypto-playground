{
 "cells": [
  {
   "cell_type": "code",
   "execution_count": 1,
   "id": "99f17dfa",
   "metadata": {},
   "outputs": [],
   "source": [
    "from cryptography.hazmat.primitives import hashes\n",
    "from cryptography.hazmat.primitives.asymmetric import ec"
   ]
  },
  {
   "cell_type": "code",
   "execution_count": 2,
   "id": "910b41bd",
   "metadata": {},
   "outputs": [],
   "source": [
    "private_key = ec.generate_private_key(\n",
    "    ec.SECP384R1()\n",
    ")"
   ]
  },
  {
   "cell_type": "code",
   "execution_count": 3,
   "id": "a5a18850",
   "metadata": {},
   "outputs": [],
   "source": [
    "message = b'message I would like to sign'"
   ]
  },
  {
   "cell_type": "markdown",
   "id": "6d354682",
   "metadata": {},
   "source": [
    "See https://cryptography.io/en/latest/hazmat/primitives/asymmetric/ec/#cryptography.hazmat.primitives.asymmetric.ec.ECDSA."
   ]
  },
  {
   "cell_type": "code",
   "execution_count": 4,
   "id": "d0fdca63",
   "metadata": {},
   "outputs": [],
   "source": [
    "signature = private_key.sign(\n",
    "    message,\n",
    "    ec.ECDSA(hashes.SHA256())\n",
    ")"
   ]
  },
  {
   "cell_type": "code",
   "execution_count": 5,
   "id": "86091bb7",
   "metadata": {},
   "outputs": [
    {
     "data": {
      "text/plain": [
       "bytes"
      ]
     },
     "execution_count": 5,
     "metadata": {},
     "output_type": "execute_result"
    }
   ],
   "source": [
    "type(signature)"
   ]
  },
  {
   "cell_type": "code",
   "execution_count": 6,
   "id": "b597080a",
   "metadata": {},
   "outputs": [],
   "source": [
    "?private_key.sign"
   ]
  },
  {
   "cell_type": "code",
   "execution_count": 7,
   "id": "64587cb1",
   "metadata": {},
   "outputs": [],
   "source": [
    "public_key = private_key.public_key()"
   ]
  },
  {
   "cell_type": "code",
   "execution_count": 8,
   "id": "a1b55d13",
   "metadata": {},
   "outputs": [],
   "source": [
    "?public_key.verify"
   ]
  },
  {
   "cell_type": "code",
   "execution_count": 9,
   "id": "c4726e3c",
   "metadata": {},
   "outputs": [],
   "source": [
    "public_key.verify(signature, message, ec.ECDSA(hashes.SHA256()))"
   ]
  },
  {
   "cell_type": "code",
   "execution_count": 10,
   "id": "3dbbb571",
   "metadata": {},
   "outputs": [
    {
     "ename": "InvalidSignature",
     "evalue": "",
     "output_type": "error",
     "traceback": [
      "\u001b[1;31m---------------------------------------------------------------------------\u001b[0m",
      "\u001b[1;31mInvalidSignature\u001b[0m                          Traceback (most recent call last)",
      "\u001b[1;32m~\\AppData\\Local\\Temp/ipykernel_11320/2067050168.py\u001b[0m in \u001b[0;36m<module>\u001b[1;34m\u001b[0m\n\u001b[1;32m----> 1\u001b[1;33m \u001b[0mpublic_key\u001b[0m\u001b[1;33m.\u001b[0m\u001b[0mverify\u001b[0m\u001b[1;33m(\u001b[0m\u001b[0msignature\u001b[0m\u001b[1;33m,\u001b[0m \u001b[1;34mb'foobar'\u001b[0m\u001b[1;33m,\u001b[0m \u001b[0mec\u001b[0m\u001b[1;33m.\u001b[0m\u001b[0mECDSA\u001b[0m\u001b[1;33m(\u001b[0m\u001b[0mhashes\u001b[0m\u001b[1;33m.\u001b[0m\u001b[0mSHA256\u001b[0m\u001b[1;33m(\u001b[0m\u001b[1;33m)\u001b[0m\u001b[1;33m)\u001b[0m\u001b[1;33m)\u001b[0m\u001b[1;33m\u001b[0m\u001b[1;33m\u001b[0m\u001b[0m\n\u001b[0m",
      "\u001b[1;32m~\\Anaconda3\\lib\\site-packages\\cryptography\\hazmat\\backends\\openssl\\ec.py\u001b[0m in \u001b[0;36mverify\u001b[1;34m(self, signature, data, signature_algorithm)\u001b[0m\n\u001b[0;32m    376\u001b[0m             \u001b[0msignature_algorithm\u001b[0m\u001b[1;33m.\u001b[0m\u001b[0m_algorithm\u001b[0m\u001b[1;33m,\u001b[0m  \u001b[1;31m# type: ignore[attr-defined]\u001b[0m\u001b[1;33m\u001b[0m\u001b[1;33m\u001b[0m\u001b[0m\n\u001b[0;32m    377\u001b[0m         )\n\u001b[1;32m--> 378\u001b[1;33m         \u001b[0m_ecdsa_sig_verify\u001b[0m\u001b[1;33m(\u001b[0m\u001b[0mself\u001b[0m\u001b[1;33m.\u001b[0m\u001b[0m_backend\u001b[0m\u001b[1;33m,\u001b[0m \u001b[0mself\u001b[0m\u001b[1;33m,\u001b[0m \u001b[0msignature\u001b[0m\u001b[1;33m,\u001b[0m \u001b[0mdata\u001b[0m\u001b[1;33m)\u001b[0m\u001b[1;33m\u001b[0m\u001b[1;33m\u001b[0m\u001b[0m\n\u001b[0m",
      "\u001b[1;32m~\\Anaconda3\\lib\\site-packages\\cryptography\\hazmat\\backends\\openssl\\ec.py\u001b[0m in \u001b[0;36m_ecdsa_sig_verify\u001b[1;34m(backend, public_key, signature, data)\u001b[0m\n\u001b[0;32m    104\u001b[0m     \u001b[1;32mif\u001b[0m \u001b[0mres\u001b[0m \u001b[1;33m!=\u001b[0m \u001b[1;36m1\u001b[0m\u001b[1;33m:\u001b[0m\u001b[1;33m\u001b[0m\u001b[1;33m\u001b[0m\u001b[0m\n\u001b[0;32m    105\u001b[0m         \u001b[0mbackend\u001b[0m\u001b[1;33m.\u001b[0m\u001b[0m_consume_errors\u001b[0m\u001b[1;33m(\u001b[0m\u001b[1;33m)\u001b[0m\u001b[1;33m\u001b[0m\u001b[1;33m\u001b[0m\u001b[0m\n\u001b[1;32m--> 106\u001b[1;33m         \u001b[1;32mraise\u001b[0m \u001b[0mInvalidSignature\u001b[0m\u001b[1;33m\u001b[0m\u001b[1;33m\u001b[0m\u001b[0m\n\u001b[0m\u001b[0;32m    107\u001b[0m \u001b[1;33m\u001b[0m\u001b[0m\n\u001b[0;32m    108\u001b[0m \u001b[1;33m\u001b[0m\u001b[0m\n",
      "\u001b[1;31mInvalidSignature\u001b[0m: "
     ]
    }
   ],
   "source": [
    "public_key.verify(signature, b'foobar', ec.ECDSA(hashes.SHA256()))"
   ]
  },
  {
   "cell_type": "code",
   "execution_count": null,
   "id": "a5891759",
   "metadata": {},
   "outputs": [],
   "source": []
  }
 ],
 "metadata": {
  "kernelspec": {
   "display_name": "Python 3 (ipykernel)",
   "language": "python",
   "name": "python3"
  },
  "language_info": {
   "codemirror_mode": {
    "name": "ipython",
    "version": 3
   },
   "file_extension": ".py",
   "mimetype": "text/x-python",
   "name": "python",
   "nbconvert_exporter": "python",
   "pygments_lexer": "ipython3",
   "version": "3.9.7"
  }
 },
 "nbformat": 4,
 "nbformat_minor": 5
}
