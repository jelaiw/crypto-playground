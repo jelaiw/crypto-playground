{
 "cells": [
  {
   "cell_type": "code",
   "execution_count": 1,
   "id": "99f17dfa",
   "metadata": {},
   "outputs": [],
   "source": [
    "from cryptography.hazmat.primitives import hashes\n",
    "from cryptography.hazmat.primitives.asymmetric import ec"
   ]
  },
  {
   "cell_type": "code",
   "execution_count": 2,
   "id": "910b41bd",
   "metadata": {},
   "outputs": [],
   "source": [
    "private_key = ec.generate_private_key(\n",
    "    ec.SECP384R1()\n",
    ")"
   ]
  },
  {
   "cell_type": "code",
   "execution_count": 3,
   "id": "a5a18850",
   "metadata": {},
   "outputs": [],
   "source": [
    "message = b'message I would like to sign'"
   ]
  },
  {
   "cell_type": "markdown",
   "id": "6d354682",
   "metadata": {},
   "source": [
    "See https://cryptography.io/en/latest/hazmat/primitives/asymmetric/ec/#cryptography.hazmat.primitives.asymmetric.ec.ECDSA."
   ]
  },
  {
   "cell_type": "code",
   "execution_count": 4,
   "id": "d0fdca63",
   "metadata": {},
   "outputs": [],
   "source": [
    "signature = private_key.sign(\n",
    "    message,\n",
    "    ec.ECDSA(hashes.SHA256())\n",
    ")"
   ]
  },
  {
   "cell_type": "code",
   "execution_count": 5,
   "id": "86091bb7",
   "metadata": {},
   "outputs": [
    {
     "data": {
      "text/plain": [
       "bytes"
      ]
     },
     "execution_count": 5,
     "metadata": {},
     "output_type": "execute_result"
    }
   ],
   "source": [
    "type(signature)"
   ]
  },
  {
   "cell_type": "code",
   "execution_count": 6,
   "id": "b597080a",
   "metadata": {},
   "outputs": [
    {
     "name": "stdout",
     "output_type": "stream",
     "text": [
      "\u001b[0;31mSignature:\u001b[0m\n",
      "\u001b[0mprivate_key\u001b[0m\u001b[0;34m.\u001b[0m\u001b[0msign\u001b[0m\u001b[0;34m(\u001b[0m\u001b[0;34m\u001b[0m\n",
      "\u001b[0;34m\u001b[0m    \u001b[0mdata\u001b[0m\u001b[0;34m:\u001b[0m \u001b[0;34m'bytes'\u001b[0m\u001b[0;34m,\u001b[0m\u001b[0;34m\u001b[0m\n",
      "\u001b[0;34m\u001b[0m    \u001b[0msignature_algorithm\u001b[0m\u001b[0;34m:\u001b[0m \u001b[0;34m'ec.EllipticCurveSignatureAlgorithm'\u001b[0m\u001b[0;34m,\u001b[0m\u001b[0;34m\u001b[0m\n",
      "\u001b[0;34m\u001b[0m\u001b[0;34m)\u001b[0m \u001b[0;34m->\u001b[0m \u001b[0;34m'bytes'\u001b[0m\u001b[0;34m\u001b[0m\u001b[0;34m\u001b[0m\u001b[0m\n",
      "\u001b[0;31mDocstring:\u001b[0m Signs the data\n",
      "\u001b[0;31mFile:\u001b[0m      ~/.local/lib/python3.10/site-packages/cryptography/hazmat/backends/openssl/ec.py\n",
      "\u001b[0;31mType:\u001b[0m      method"
     ]
    }
   ],
   "source": [
    "?private_key.sign"
   ]
  },
  {
   "cell_type": "code",
   "execution_count": 7,
   "id": "64587cb1",
   "metadata": {},
   "outputs": [],
   "source": [
    "public_key = private_key.public_key()"
   ]
  },
  {
   "cell_type": "code",
   "execution_count": 8,
   "id": "a1b55d13",
   "metadata": {},
   "outputs": [
    {
     "name": "stdout",
     "output_type": "stream",
     "text": [
      "\u001b[0;31mSignature:\u001b[0m\n",
      "\u001b[0mpublic_key\u001b[0m\u001b[0;34m.\u001b[0m\u001b[0mverify\u001b[0m\u001b[0;34m(\u001b[0m\u001b[0;34m\u001b[0m\n",
      "\u001b[0;34m\u001b[0m    \u001b[0msignature\u001b[0m\u001b[0;34m:\u001b[0m \u001b[0;34m'bytes'\u001b[0m\u001b[0;34m,\u001b[0m\u001b[0;34m\u001b[0m\n",
      "\u001b[0;34m\u001b[0m    \u001b[0mdata\u001b[0m\u001b[0;34m:\u001b[0m \u001b[0;34m'bytes'\u001b[0m\u001b[0;34m,\u001b[0m\u001b[0;34m\u001b[0m\n",
      "\u001b[0;34m\u001b[0m    \u001b[0msignature_algorithm\u001b[0m\u001b[0;34m:\u001b[0m \u001b[0;34m'ec.EllipticCurveSignatureAlgorithm'\u001b[0m\u001b[0;34m,\u001b[0m\u001b[0;34m\u001b[0m\n",
      "\u001b[0;34m\u001b[0m\u001b[0;34m)\u001b[0m \u001b[0;34m->\u001b[0m \u001b[0;34m'None'\u001b[0m\u001b[0;34m\u001b[0m\u001b[0;34m\u001b[0m\u001b[0m\n",
      "\u001b[0;31mDocstring:\u001b[0m Verifies the signature of the data.\n",
      "\u001b[0;31mFile:\u001b[0m      ~/.local/lib/python3.10/site-packages/cryptography/hazmat/backends/openssl/ec.py\n",
      "\u001b[0;31mType:\u001b[0m      method"
     ]
    }
   ],
   "source": [
    "?public_key.verify"
   ]
  },
  {
   "cell_type": "code",
   "execution_count": 9,
   "id": "c4726e3c",
   "metadata": {},
   "outputs": [],
   "source": [
    "public_key.verify(signature, message, ec.ECDSA(hashes.SHA256()))"
   ]
  },
  {
   "cell_type": "code",
   "execution_count": 10,
   "id": "3dbbb571",
   "metadata": {},
   "outputs": [
    {
     "ename": "InvalidSignature",
     "evalue": "",
     "output_type": "error",
     "traceback": [
      "\u001b[0;31m---------------------------------------------------------------------------\u001b[0m",
      "\u001b[0;31mInvalidSignature\u001b[0m                          Traceback (most recent call last)",
      "\u001b[1;32m/workspaces/pyca-cryptography-examples/ecdsa-signing.ipynb Cell 11\u001b[0m line \u001b[0;36m1\n\u001b[0;32m----> <a href='vscode-notebook-cell://codespaces%2Bprobable-pancake-5gxr654x69g27rq7/workspaces/pyca-cryptography-examples/ecdsa-signing.ipynb#X13sdnNjb2RlLXJlbW90ZQ%3D%3D?line=0'>1</a>\u001b[0m public_key\u001b[39m.\u001b[39;49mverify(signature, \u001b[39mb\u001b[39;49m\u001b[39m'\u001b[39;49m\u001b[39mfoobar\u001b[39;49m\u001b[39m'\u001b[39;49m, ec\u001b[39m.\u001b[39;49mECDSA(hashes\u001b[39m.\u001b[39;49mSHA256()))\n",
      "File \u001b[0;32m~/.local/lib/python3.10/site-packages/cryptography/hazmat/backends/openssl/ec.py:328\u001b[0m, in \u001b[0;36m_EllipticCurvePublicKey.verify\u001b[0;34m(self, signature, data, signature_algorithm)\u001b[0m\n\u001b[1;32m    323\u001b[0m _check_signature_algorithm(signature_algorithm)\n\u001b[1;32m    324\u001b[0m data, _ \u001b[39m=\u001b[39m _calculate_digest_and_algorithm(\n\u001b[1;32m    325\u001b[0m     data,\n\u001b[1;32m    326\u001b[0m     signature_algorithm\u001b[39m.\u001b[39malgorithm,\n\u001b[1;32m    327\u001b[0m )\n\u001b[0;32m--> 328\u001b[0m _ecdsa_sig_verify(\u001b[39mself\u001b[39;49m\u001b[39m.\u001b[39;49m_backend, \u001b[39mself\u001b[39;49m, signature, data)\n",
      "File \u001b[0;32m~/.local/lib/python3.10/site-packages/cryptography/hazmat/backends/openssl/ec.py:124\u001b[0m, in \u001b[0;36m_ecdsa_sig_verify\u001b[0;34m(backend, public_key, signature, data)\u001b[0m\n\u001b[1;32m    122\u001b[0m \u001b[39mif\u001b[39;00m res \u001b[39m!=\u001b[39m \u001b[39m1\u001b[39m:\n\u001b[1;32m    123\u001b[0m     backend\u001b[39m.\u001b[39m_consume_errors()\n\u001b[0;32m--> 124\u001b[0m     \u001b[39mraise\u001b[39;00m InvalidSignature\n",
      "\u001b[0;31mInvalidSignature\u001b[0m: "
     ]
    }
   ],
   "source": [
    "public_key.verify(signature, b'foobar', ec.ECDSA(hashes.SHA256()))"
   ]
  },
  {
   "cell_type": "code",
   "execution_count": null,
   "id": "a5891759",
   "metadata": {},
   "outputs": [],
   "source": []
  }
 ],
 "metadata": {
  "kernelspec": {
   "display_name": "Python 3 (ipykernel)",
   "language": "python",
   "name": "python3"
  },
  "language_info": {
   "codemirror_mode": {
    "name": "ipython",
    "version": 3
   },
   "file_extension": ".py",
   "mimetype": "text/x-python",
   "name": "python",
   "nbconvert_exporter": "python",
   "pygments_lexer": "ipython3",
   "version": "3.10.8"
  }
 },
 "nbformat": 4,
 "nbformat_minor": 5
}
