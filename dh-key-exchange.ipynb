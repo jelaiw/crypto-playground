{
 "cells": [
  {
   "cell_type": "code",
   "execution_count": 1,
   "id": "d9d9002e",
   "metadata": {},
   "outputs": [],
   "source": [
    "from cryptography.hazmat.primitives import hashes\n",
    "from cryptography.hazmat.primitives.asymmetric import dh\n",
    "from cryptography.hazmat.primitives.kdf.hkdf import HKDF"
   ]
  },
  {
   "cell_type": "code",
   "execution_count": 3,
   "id": "12f29e8d",
   "metadata": {},
   "outputs": [],
   "source": [
    "# Generate DH parameters. These can be reused.\n",
    "params = dh.generate_parameters(generator=2, key_size=2048)"
   ]
  },
  {
   "cell_type": "code",
   "execution_count": 4,
   "id": "2e037159",
   "metadata": {},
   "outputs": [],
   "source": [
    "# Generate a private key for use in the exchange.\n",
    "private_key = params.generate_private_key()"
   ]
  },
  {
   "cell_type": "code",
   "execution_count": 5,
   "id": "3b08f0fc",
   "metadata": {},
   "outputs": [],
   "source": [
    "# In a real handshake the peer_public_key will be received from the\n",
    "# other party. For this example we'll generate another private key and\n",
    "# get a public key from that. Note that in a DH handshake both peers\n",
    "# must agree on a common set of parameters.\n",
    "peer_public_key = params.generate_private_key().public_key()"
   ]
  },
  {
   "cell_type": "code",
   "execution_count": 6,
   "id": "2be53851",
   "metadata": {},
   "outputs": [],
   "source": [
    "shared_key = private_key.exchange(peer_public_key)"
   ]
  },
  {
   "cell_type": "code",
   "execution_count": 7,
   "id": "349e91fd",
   "metadata": {},
   "outputs": [
    {
     "data": {
      "text/plain": [
       "bytes"
      ]
     },
     "execution_count": 7,
     "metadata": {},
     "output_type": "execute_result"
    }
   ],
   "source": [
    "type(shared_key)"
   ]
  },
  {
   "cell_type": "code",
   "execution_count": 8,
   "id": "6736b4a7",
   "metadata": {},
   "outputs": [],
   "source": [
    "# Perform key derivation (to produce a session key).\n",
    "derived_key = HKDF(\n",
    "    algorithm=hashes.SHA256(),\n",
    "    length=32,\n",
    "    salt=None,\n",
    "    info=b'handshake data',\n",
    ").derive(shared_key)"
   ]
  },
  {
   "cell_type": "code",
   "execution_count": 9,
   "id": "633fe529",
   "metadata": {},
   "outputs": [
    {
     "data": {
      "text/plain": [
       "8561129978845650408113592292991262233515402539918091709529587021557842834479580438831562042805140485858066938337278547820870326530859545484575488555559670432511070098324661981217137928459867023687226316666192924163175635935193742160647179319215954336985170578760837506824452397246289445638703428474558025588267388937670369577353430389568068635164137703597755178120764994043546773706441988571612128974182682372833230350567940424675836759607492386414282382908558318113975392926546861190280731577360773903668895834160576904474127719184580618372099631125155222913483140758821350343450194529473929355981022555010699238314"
      ]
     },
     "execution_count": 9,
     "metadata": {},
     "output_type": "execute_result"
    }
   ],
   "source": [
    "a = private_key.private_numbers().x; a"
   ]
  },
  {
   "cell_type": "code",
   "execution_count": 10,
   "id": "695aa590",
   "metadata": {},
   "outputs": [
    {
     "data": {
      "text/plain": [
       "10973168411845792576678789308302749647691404392359060560511190004472327073184094253342237590966093558698930161750930558785952085352554962006749489819962081844592221723049169325028935662876014876148983388127389332639245851075713901587561885347175174048737668196384128303441212554879785102557197942559957222889611738996328056652683041713362787175044111220086676449799234587772663513891976907530113225061621393040053870140896267555271127470400222051897062353201526013053961223099049964400148517445467952368356543570918074932987562097796006982746768867109616572598927399524999398224714303576994928090342362114121421385374"
      ]
     },
     "execution_count": 10,
     "metadata": {},
     "output_type": "execute_result"
    }
   ],
   "source": [
    "A = private_key.public_key().public_numbers().y; A"
   ]
  },
  {
   "cell_type": "code",
   "execution_count": 11,
   "id": "d52275f3",
   "metadata": {},
   "outputs": [
    {
     "data": {
      "text/plain": [
       "27396747584091119623845962397687703834694721978932850137599664815802722826811966476040456315352725611563930984730778420590416372432472959235662508308447241342002435941698849919218987820064433940903130565783402116484159398975134859922689932582323930031522760375378215813532943220194588759930599546212649489029036807798012242089515427464222971193627567321152805849966481146258751815650001619465632351354871046370725266561203032253185792893706579198343815307405136375798287794978778969477307986481037583499152208066996293427362560804245095396709589951243899564208921911084031710473144825149412926718276190705144193327362"
      ]
     },
     "execution_count": 11,
     "metadata": {},
     "output_type": "execute_result"
    }
   ],
   "source": [
    "B = peer_public_key.public_numbers().y; B"
   ]
  },
  {
   "cell_type": "code",
   "execution_count": 12,
   "id": "46a3e0ba",
   "metadata": {},
   "outputs": [],
   "source": [
    "?int.from_bytes"
   ]
  },
  {
   "cell_type": "code",
   "execution_count": 13,
   "id": "f6ad1941",
   "metadata": {},
   "outputs": [
    {
     "data": {
      "text/plain": [
       "554557438518567525315145025017393040748560484880398920740524863785138327279740990525687961618591993331527320075608604047811517332747014083013314069304481847406353749642941672460191860561716357586590091975646862884922247022618524861672368442233093865812658451912279607621619068150159036556593011155459872170092845987511202514469616604548520278476061262314254558951038385770773220694553897890356059959972360808033703110558364595129704505045370514701843264536956412149233263159372032949779176007472394674942768510578940405734332238741520635491971481245111562163532933361817134223325014361217028178112449670836729513127"
      ]
     },
     "execution_count": 13,
     "metadata": {},
     "output_type": "execute_result"
    }
   ],
   "source": [
    "sk = int.from_bytes(shared_key, byteorder=\"big\"); sk"
   ]
  },
  {
   "cell_type": "code",
   "execution_count": 14,
   "id": "49188435",
   "metadata": {},
   "outputs": [],
   "source": [
    "?pow"
   ]
  },
  {
   "cell_type": "code",
   "execution_count": 15,
   "id": "01116d3b",
   "metadata": {},
   "outputs": [
    {
     "data": {
      "text/plain": [
       "28812573935149253543742949217276698141398018782115809357298205462405318029002499006046036078902417784591143008960360324212942081338282866221856034950002605033187686435689771758190986069808862935158399400010923327728693943780979154324087319328366380556106728713617793970417941394389617966472413567990582571847925879788411485910051007271780651275006723736819001987468915231178958333660380229755125546909358278545736491801339376574389343094253325159073939896251949960734510172376307059028907536926322291074733110205101136727713946790628655864085796345384934975821597955055759508165917928759855591445214015466761536276499"
      ]
     },
     "execution_count": 15,
     "metadata": {},
     "output_type": "execute_result"
    }
   ],
   "source": [
    "p = params.parameter_numbers().p; p"
   ]
  },
  {
   "cell_type": "code",
   "execution_count": 16,
   "id": "7ebfb243",
   "metadata": {},
   "outputs": [
    {
     "data": {
      "text/plain": [
       "554557438518567525315145025017393040748560484880398920740524863785138327279740990525687961618591993331527320075608604047811517332747014083013314069304481847406353749642941672460191860561716357586590091975646862884922247022618524861672368442233093865812658451912279607621619068150159036556593011155459872170092845987511202514469616604548520278476061262314254558951038385770773220694553897890356059959972360808033703110558364595129704505045370514701843264536956412149233263159372032949779176007472394674942768510578940405734332238741520635491971481245111562163532933361817134223325014361217028178112449670836729513127"
      ]
     },
     "execution_count": 16,
     "metadata": {},
     "output_type": "execute_result"
    }
   ],
   "source": [
    "pow(B, a, mod=p)"
   ]
  },
  {
   "cell_type": "code",
   "execution_count": 17,
   "id": "a4c5ed6f",
   "metadata": {},
   "outputs": [
    {
     "data": {
      "text/plain": [
       "True"
      ]
     },
     "execution_count": 17,
     "metadata": {},
     "output_type": "execute_result"
    }
   ],
   "source": [
    "sk == pow(B, a, mod=p)"
   ]
  },
  {
   "cell_type": "code",
   "execution_count": null,
   "id": "f5340417",
   "metadata": {},
   "outputs": [],
   "source": []
  }
 ],
 "metadata": {
  "kernelspec": {
   "display_name": "Python 3 (ipykernel)",
   "language": "python",
   "name": "python3"
  },
  "language_info": {
   "codemirror_mode": {
    "name": "ipython",
    "version": 3
   },
   "file_extension": ".py",
   "mimetype": "text/x-python",
   "name": "python",
   "nbconvert_exporter": "python",
   "pygments_lexer": "ipython3",
   "version": "3.9.7"
  }
 },
 "nbformat": 4,
 "nbformat_minor": 5
}
